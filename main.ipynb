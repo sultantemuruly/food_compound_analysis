{
 "cells": [
  {
   "cell_type": "code",
   "execution_count": 70,
   "id": "23a40a06",
   "metadata": {},
   "outputs": [
    {
     "name": "stdout",
     "output_type": "stream",
     "text": [
      "Requirement already satisfied: google-generativeai in ./venv/lib/python3.13/site-packages (0.8.5)\n",
      "Requirement already satisfied: python-dotenv in ./venv/lib/python3.13/site-packages (1.1.1)\n",
      "Requirement already satisfied: pypdf in ./venv/lib/python3.13/site-packages (6.0.0)\n",
      "Requirement already satisfied: pillow in ./venv/lib/python3.13/site-packages (11.3.0)\n",
      "Requirement already satisfied: google-ai-generativelanguage==0.6.15 in ./venv/lib/python3.13/site-packages (from google-generativeai) (0.6.15)\n",
      "Requirement already satisfied: google-api-core in ./venv/lib/python3.13/site-packages (from google-generativeai) (2.25.1)\n",
      "Requirement already satisfied: google-api-python-client in ./venv/lib/python3.13/site-packages (from google-generativeai) (2.179.0)\n",
      "Requirement already satisfied: google-auth>=2.15.0 in ./venv/lib/python3.13/site-packages (from google-generativeai) (2.40.3)\n",
      "Requirement already satisfied: protobuf in ./venv/lib/python3.13/site-packages (from google-generativeai) (5.29.5)\n",
      "Requirement already satisfied: pydantic in ./venv/lib/python3.13/site-packages (from google-generativeai) (2.11.7)\n",
      "Requirement already satisfied: tqdm in ./venv/lib/python3.13/site-packages (from google-generativeai) (4.67.1)\n",
      "Requirement already satisfied: typing-extensions in ./venv/lib/python3.13/site-packages (from google-generativeai) (4.14.1)\n",
      "Requirement already satisfied: proto-plus<2.0.0dev,>=1.22.3 in ./venv/lib/python3.13/site-packages (from google-ai-generativelanguage==0.6.15->google-generativeai) (1.26.1)\n",
      "Requirement already satisfied: googleapis-common-protos<2.0.0,>=1.56.2 in ./venv/lib/python3.13/site-packages (from google-api-core->google-generativeai) (1.70.0)\n",
      "Requirement already satisfied: requests<3.0.0,>=2.18.0 in ./venv/lib/python3.13/site-packages (from google-api-core->google-generativeai) (2.32.5)\n",
      "Requirement already satisfied: grpcio<2.0.0,>=1.33.2 in ./venv/lib/python3.13/site-packages (from google-api-core[grpc]!=2.0.*,!=2.1.*,!=2.10.*,!=2.2.*,!=2.3.*,!=2.4.*,!=2.5.*,!=2.6.*,!=2.7.*,!=2.8.*,!=2.9.*,<3.0.0dev,>=1.34.1->google-ai-generativelanguage==0.6.15->google-generativeai) (1.74.0)\n",
      "Requirement already satisfied: grpcio-status<2.0.0,>=1.33.2 in ./venv/lib/python3.13/site-packages (from google-api-core[grpc]!=2.0.*,!=2.1.*,!=2.10.*,!=2.2.*,!=2.3.*,!=2.4.*,!=2.5.*,!=2.6.*,!=2.7.*,!=2.8.*,!=2.9.*,<3.0.0dev,>=1.34.1->google-ai-generativelanguage==0.6.15->google-generativeai) (1.71.2)\n",
      "Requirement already satisfied: cachetools<6.0,>=2.0.0 in ./venv/lib/python3.13/site-packages (from google-auth>=2.15.0->google-generativeai) (5.5.2)\n",
      "Requirement already satisfied: pyasn1-modules>=0.2.1 in ./venv/lib/python3.13/site-packages (from google-auth>=2.15.0->google-generativeai) (0.4.2)\n",
      "Requirement already satisfied: rsa<5,>=3.1.4 in ./venv/lib/python3.13/site-packages (from google-auth>=2.15.0->google-generativeai) (4.9.1)\n",
      "Requirement already satisfied: charset_normalizer<4,>=2 in ./venv/lib/python3.13/site-packages (from requests<3.0.0,>=2.18.0->google-api-core->google-generativeai) (3.4.3)\n",
      "Requirement already satisfied: idna<4,>=2.5 in ./venv/lib/python3.13/site-packages (from requests<3.0.0,>=2.18.0->google-api-core->google-generativeai) (3.10)\n",
      "Requirement already satisfied: urllib3<3,>=1.21.1 in ./venv/lib/python3.13/site-packages (from requests<3.0.0,>=2.18.0->google-api-core->google-generativeai) (2.5.0)\n",
      "Requirement already satisfied: certifi>=2017.4.17 in ./venv/lib/python3.13/site-packages (from requests<3.0.0,>=2.18.0->google-api-core->google-generativeai) (2025.8.3)\n",
      "Requirement already satisfied: pyasn1>=0.1.3 in ./venv/lib/python3.13/site-packages (from rsa<5,>=3.1.4->google-auth>=2.15.0->google-generativeai) (0.6.1)\n",
      "Requirement already satisfied: httplib2<1.0.0,>=0.19.0 in ./venv/lib/python3.13/site-packages (from google-api-python-client->google-generativeai) (0.22.0)\n",
      "Requirement already satisfied: google-auth-httplib2<1.0.0,>=0.2.0 in ./venv/lib/python3.13/site-packages (from google-api-python-client->google-generativeai) (0.2.0)\n",
      "Requirement already satisfied: uritemplate<5,>=3.0.1 in ./venv/lib/python3.13/site-packages (from google-api-python-client->google-generativeai) (4.2.0)\n",
      "Requirement already satisfied: pyparsing!=3.0.0,!=3.0.1,!=3.0.2,!=3.0.3,<4,>=2.4.2 in ./venv/lib/python3.13/site-packages (from httplib2<1.0.0,>=0.19.0->google-api-python-client->google-generativeai) (3.2.3)\n",
      "Requirement already satisfied: annotated-types>=0.6.0 in ./venv/lib/python3.13/site-packages (from pydantic->google-generativeai) (0.7.0)\n",
      "Requirement already satisfied: pydantic-core==2.33.2 in ./venv/lib/python3.13/site-packages (from pydantic->google-generativeai) (2.33.2)\n",
      "Requirement already satisfied: typing-inspection>=0.4.0 in ./venv/lib/python3.13/site-packages (from pydantic->google-generativeai) (0.4.1)\n",
      "\n",
      "\u001b[1m[\u001b[0m\u001b[34;49mnotice\u001b[0m\u001b[1;39;49m]\u001b[0m\u001b[39;49m A new release of pip is available: \u001b[0m\u001b[31;49m25.1.1\u001b[0m\u001b[39;49m -> \u001b[0m\u001b[32;49m25.2\u001b[0m\n",
      "\u001b[1m[\u001b[0m\u001b[34;49mnotice\u001b[0m\u001b[1;39;49m]\u001b[0m\u001b[39;49m To update, run: \u001b[0m\u001b[32;49mpip install --upgrade pip\u001b[0m\n"
     ]
    }
   ],
   "source": [
    "!pip3 install google-generativeai python-dotenv pypdf pillow"
   ]
  },
  {
   "cell_type": "code",
   "execution_count": 71,
   "id": "d996585f",
   "metadata": {},
   "outputs": [],
   "source": [
    "!pip3 freeze > requirements.txt"
   ]
  },
  {
   "cell_type": "code",
   "execution_count": 72,
   "id": "6dd2bcfb",
   "metadata": {},
   "outputs": [],
   "source": [
    "import os\n",
    "from dotenv import load_dotenv\n",
    "from pypdf import PdfReader"
   ]
  },
  {
   "cell_type": "code",
   "execution_count": 73,
   "id": "bec6f7f8",
   "metadata": {},
   "outputs": [],
   "source": [
    "load_dotenv(override=True)\n",
    "\n",
    "gemini_api_key = os.getenv(\"GOOGLE_API_KEY\")\n",
    "\n",
    "if not gemini_api_key:\n",
    "    raise ValueError(\"GOOGLE_API_KEY is not set in the environment variables.\")"
   ]
  },
  {
   "cell_type": "code",
   "execution_count": 74,
   "id": "ee0232d4",
   "metadata": {},
   "outputs": [],
   "source": [
    "def read_pdf(file_path):\n",
    "    try:\n",
    "        reader = PdfReader(file_path)\n",
    "        text = \"\"\n",
    "        for page in reader.pages:\n",
    "            text += page.extract_text() + \"\\n\"\n",
    "        return text.strip()\n",
    "    except Exception as e:\n",
    "        print(f\"Error reading PDF file: {e}\")\n",
    "        return None"
   ]
  },
  {
   "cell_type": "code",
   "execution_count": 75,
   "id": "749f1b4c",
   "metadata": {},
   "outputs": [],
   "source": [
    "dietary_guidelines_text = read_pdf(\"resources/dietary_guidelines.pdf\")\n",
    "\n",
    "if not dietary_guidelines_text:\n",
    "    raise ValueError(\"Failed to read the dietary guidelines PDF file.\")"
   ]
  },
  {
   "cell_type": "code",
   "execution_count": 76,
   "id": "85b33c4f",
   "metadata": {},
   "outputs": [
    {
     "data": {
      "text/plain": [
       "'Dietary\\nGu'"
      ]
     },
     "execution_count": 76,
     "metadata": {},
     "output_type": "execute_result"
    }
   ],
   "source": [
    "dietary_guidelines_text[:10]"
   ]
  },
  {
   "cell_type": "code",
   "execution_count": 77,
   "id": "93b56568",
   "metadata": {},
   "outputs": [],
   "source": [
    "photo_analysis_system_prompt = \"\"\"\n",
    "You are a nutrition-label analyzer. From the provided product photo(s), extract ONLY the following fields in JSON:\n",
    "- fat, cholesterol, sodium, carbohydrates, protein\n",
    "\n",
    "Rules:\n",
    "- Each field is a dictionary of key→value pairs you can read from the label \n",
    "  (e.g., {\"total\": 7, \"saturated\": 1.5, \"unit\": \"g\", \"basis\": \"per_serving\", \"percent_dv\": 9}).\n",
    "- If a field is not readable or missing, set numeric values to 0 and strings to empty string \"\".\n",
    "- Keep numbers as plain numbers (no % or unit symbols in the numbers themselves).\n",
    "- If the label shows only percent daily value, put it as a number in \"percent_dv\".\n",
    "- Do not convert salt↔sodium; only report what's printed.\n",
    "- Output ONLY a JSON object matching the schema. No extra text.\n",
    "\n",
    "Example for missing/unreadable values:\n",
    "{\"total\": 0, \"saturated\": 0, \"unit\": \"\", \"basis\": \"\", \"percent_dv\": 0}\n",
    "\"\"\""
   ]
  },
  {
   "cell_type": "code",
   "execution_count": 78,
   "id": "93e15b3d",
   "metadata": {},
   "outputs": [],
   "source": [
    "import google.generativeai as genai\n",
    "from google.generativeai.types import GenerationConfig\n",
    "from PIL import Image"
   ]
  },
  {
   "cell_type": "code",
   "execution_count": 79,
   "id": "c9b74d80",
   "metadata": {},
   "outputs": [],
   "source": [
    "genai.configure(api_key=gemini_api_key)"
   ]
  },
  {
   "cell_type": "code",
   "execution_count": 80,
   "id": "f2710c0b",
   "metadata": {},
   "outputs": [],
   "source": [
    "nutrition_schema = {\n",
    "    \"type\": \"object\",\n",
    "    \"properties\": {\n",
    "        \"schema_version\": {\n",
    "            \"type\": \"string\"\n",
    "        },\n",
    "        \"fat\": {\n",
    "            \"type\": \"object\",\n",
    "            \"properties\": {\n",
    "                \"amount\": {\"type\": \"number\"},\n",
    "                \"unit\": {\"type\": \"string\"},\n",
    "                \"daily_value_percent\": {\"type\": \"number\"}\n",
    "            }\n",
    "        },\n",
    "        \"cholesterol\": {\n",
    "            \"type\": \"object\",\n",
    "            \"properties\": {\n",
    "                \"amount\": {\"type\": \"number\"},\n",
    "                \"unit\": {\"type\": \"string\"},\n",
    "                \"daily_value_percent\": {\"type\": \"number\"}\n",
    "            }\n",
    "        },\n",
    "        \"sodium\": {\n",
    "            \"type\": \"object\",\n",
    "            \"properties\": {\n",
    "                \"amount\": {\"type\": \"number\"},\n",
    "                \"unit\": {\"type\": \"string\"},\n",
    "                \"daily_value_percent\": {\"type\": \"number\"}\n",
    "            }\n",
    "        },\n",
    "        \"carbohydrates\": {\n",
    "            \"type\": \"object\",\n",
    "            \"properties\": {\n",
    "                \"amount\": {\"type\": \"number\"},\n",
    "                \"unit\": {\"type\": \"string\"},\n",
    "                \"daily_value_percent\": {\"type\": \"number\"}\n",
    "            }\n",
    "        },\n",
    "        \"protein\": {\n",
    "            \"type\": \"object\",\n",
    "            \"properties\": {\n",
    "                \"amount\": {\"type\": \"number\"},\n",
    "                \"unit\": {\"type\": \"string\"},\n",
    "                \"daily_value_percent\": {\"type\": \"number\"}\n",
    "            }\n",
    "        }\n",
    "    },\n",
    "    \"required\": [\"schema_version\"]\n",
    "}"
   ]
  },
  {
   "cell_type": "code",
   "execution_count": 81,
   "id": "768e1ecf",
   "metadata": {},
   "outputs": [],
   "source": [
    "model = genai.GenerativeModel('gemini-2.0-flash-exp')"
   ]
  },
  {
   "cell_type": "code",
   "execution_count": 82,
   "id": "110ad57e",
   "metadata": {},
   "outputs": [],
   "source": [
    "generation_config = GenerationConfig(\n",
    "    response_mime_type=\"application/json\",\n",
    "    response_schema=nutrition_schema\n",
    ")"
   ]
  },
  {
   "cell_type": "code",
   "execution_count": 83,
   "id": "c0aef2b5",
   "metadata": {},
   "outputs": [],
   "source": [
    "image = Image.open(\"resources/composition.jpg\")"
   ]
  },
  {
   "cell_type": "code",
   "execution_count": 84,
   "id": "51fd8885",
   "metadata": {},
   "outputs": [],
   "source": [
    "response = model.generate_content(\n",
    "    [photo_analysis_system_prompt, \"Analyze this nutrition label.\", image],\n",
    "    generation_config=generation_config\n",
    ")"
   ]
  },
  {
   "cell_type": "code",
   "execution_count": 85,
   "id": "6f8e4c04",
   "metadata": {},
   "outputs": [
    {
     "data": {
      "text/plain": [
       "'{\\n  \"schema_version\": \"0\",\\n  \"fat\": {\\n    \"amount\": 1.5,\\n    \"daily_value_percent\": 2,\\n    \"unit\": \"g\"\\n  },\\n  \"protein\": {\\n    \"amount\": 4,\\n    \"daily_value_percent\": 8,\\n    \"unit\": \"g\"\\n  },\\n  \"sodium\": {\\n    \"amount\": 200,\\n    \"daily_value_percent\": 9,\\n    \"unit\": \"mg\"\\n  }\\n}'"
      ]
     },
     "execution_count": 85,
     "metadata": {},
     "output_type": "execute_result"
    }
   ],
   "source": [
    "response_json = response.text\n",
    "response_json"
   ]
  },
  {
   "cell_type": "code",
   "execution_count": null,
   "id": "ccde1b51",
   "metadata": {},
   "outputs": [],
   "source": []
  }
 ],
 "metadata": {
  "kernelspec": {
   "display_name": "venv (3.13.5)",
   "language": "python",
   "name": "python3"
  },
  "language_info": {
   "codemirror_mode": {
    "name": "ipython",
    "version": 3
   },
   "file_extension": ".py",
   "mimetype": "text/x-python",
   "name": "python",
   "nbconvert_exporter": "python",
   "pygments_lexer": "ipython3",
   "version": "3.13.5"
  }
 },
 "nbformat": 4,
 "nbformat_minor": 5
}
