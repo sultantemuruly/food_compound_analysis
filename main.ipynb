{
 "cells": [
  {
   "cell_type": "code",
   "execution_count": 2,
   "id": "23a40a06",
   "metadata": {},
   "outputs": [
    {
     "name": "stdout",
     "output_type": "stream",
     "text": [
      "Requirement already satisfied: google-generativeai in ./venv/lib/python3.13/site-packages (0.8.5)\n",
      "Requirement already satisfied: python-dotenv in ./venv/lib/python3.13/site-packages (1.1.1)\n",
      "Requirement already satisfied: pypdf in ./venv/lib/python3.13/site-packages (6.0.0)\n",
      "Requirement already satisfied: pillow in ./venv/lib/python3.13/site-packages (11.3.0)\n",
      "Requirement already satisfied: google-ai-generativelanguage==0.6.15 in ./venv/lib/python3.13/site-packages (from google-generativeai) (0.6.15)\n",
      "Requirement already satisfied: google-api-core in ./venv/lib/python3.13/site-packages (from google-generativeai) (2.25.1)\n",
      "Requirement already satisfied: google-api-python-client in ./venv/lib/python3.13/site-packages (from google-generativeai) (2.179.0)\n",
      "Requirement already satisfied: google-auth>=2.15.0 in ./venv/lib/python3.13/site-packages (from google-generativeai) (2.40.3)\n",
      "Requirement already satisfied: protobuf in ./venv/lib/python3.13/site-packages (from google-generativeai) (5.29.5)\n",
      "Requirement already satisfied: pydantic in ./venv/lib/python3.13/site-packages (from google-generativeai) (2.11.7)\n",
      "Requirement already satisfied: tqdm in ./venv/lib/python3.13/site-packages (from google-generativeai) (4.67.1)\n",
      "Requirement already satisfied: typing-extensions in ./venv/lib/python3.13/site-packages (from google-generativeai) (4.14.1)\n",
      "Requirement already satisfied: proto-plus<2.0.0dev,>=1.22.3 in ./venv/lib/python3.13/site-packages (from google-ai-generativelanguage==0.6.15->google-generativeai) (1.26.1)\n",
      "Requirement already satisfied: googleapis-common-protos<2.0.0,>=1.56.2 in ./venv/lib/python3.13/site-packages (from google-api-core->google-generativeai) (1.70.0)\n",
      "Requirement already satisfied: requests<3.0.0,>=2.18.0 in ./venv/lib/python3.13/site-packages (from google-api-core->google-generativeai) (2.32.5)\n",
      "Requirement already satisfied: grpcio<2.0.0,>=1.33.2 in ./venv/lib/python3.13/site-packages (from google-api-core[grpc]!=2.0.*,!=2.1.*,!=2.10.*,!=2.2.*,!=2.3.*,!=2.4.*,!=2.5.*,!=2.6.*,!=2.7.*,!=2.8.*,!=2.9.*,<3.0.0dev,>=1.34.1->google-ai-generativelanguage==0.6.15->google-generativeai) (1.74.0)\n",
      "Requirement already satisfied: grpcio-status<2.0.0,>=1.33.2 in ./venv/lib/python3.13/site-packages (from google-api-core[grpc]!=2.0.*,!=2.1.*,!=2.10.*,!=2.2.*,!=2.3.*,!=2.4.*,!=2.5.*,!=2.6.*,!=2.7.*,!=2.8.*,!=2.9.*,<3.0.0dev,>=1.34.1->google-ai-generativelanguage==0.6.15->google-generativeai) (1.71.2)\n",
      "Requirement already satisfied: cachetools<6.0,>=2.0.0 in ./venv/lib/python3.13/site-packages (from google-auth>=2.15.0->google-generativeai) (5.5.2)\n",
      "Requirement already satisfied: pyasn1-modules>=0.2.1 in ./venv/lib/python3.13/site-packages (from google-auth>=2.15.0->google-generativeai) (0.4.2)\n",
      "Requirement already satisfied: rsa<5,>=3.1.4 in ./venv/lib/python3.13/site-packages (from google-auth>=2.15.0->google-generativeai) (4.9.1)\n",
      "Requirement already satisfied: charset_normalizer<4,>=2 in ./venv/lib/python3.13/site-packages (from requests<3.0.0,>=2.18.0->google-api-core->google-generativeai) (3.4.3)\n",
      "Requirement already satisfied: idna<4,>=2.5 in ./venv/lib/python3.13/site-packages (from requests<3.0.0,>=2.18.0->google-api-core->google-generativeai) (3.10)\n",
      "Requirement already satisfied: urllib3<3,>=1.21.1 in ./venv/lib/python3.13/site-packages (from requests<3.0.0,>=2.18.0->google-api-core->google-generativeai) (2.5.0)\n",
      "Requirement already satisfied: certifi>=2017.4.17 in ./venv/lib/python3.13/site-packages (from requests<3.0.0,>=2.18.0->google-api-core->google-generativeai) (2025.8.3)\n",
      "Requirement already satisfied: pyasn1>=0.1.3 in ./venv/lib/python3.13/site-packages (from rsa<5,>=3.1.4->google-auth>=2.15.0->google-generativeai) (0.6.1)\n",
      "Requirement already satisfied: httplib2<1.0.0,>=0.19.0 in ./venv/lib/python3.13/site-packages (from google-api-python-client->google-generativeai) (0.22.0)\n",
      "Requirement already satisfied: google-auth-httplib2<1.0.0,>=0.2.0 in ./venv/lib/python3.13/site-packages (from google-api-python-client->google-generativeai) (0.2.0)\n",
      "Requirement already satisfied: uritemplate<5,>=3.0.1 in ./venv/lib/python3.13/site-packages (from google-api-python-client->google-generativeai) (4.2.0)\n",
      "Requirement already satisfied: pyparsing!=3.0.0,!=3.0.1,!=3.0.2,!=3.0.3,<4,>=2.4.2 in ./venv/lib/python3.13/site-packages (from httplib2<1.0.0,>=0.19.0->google-api-python-client->google-generativeai) (3.2.3)\n",
      "Requirement already satisfied: annotated-types>=0.6.0 in ./venv/lib/python3.13/site-packages (from pydantic->google-generativeai) (0.7.0)\n",
      "Requirement already satisfied: pydantic-core==2.33.2 in ./venv/lib/python3.13/site-packages (from pydantic->google-generativeai) (2.33.2)\n",
      "Requirement already satisfied: typing-inspection>=0.4.0 in ./venv/lib/python3.13/site-packages (from pydantic->google-generativeai) (0.4.1)\n",
      "\n",
      "\u001b[1m[\u001b[0m\u001b[34;49mnotice\u001b[0m\u001b[1;39;49m]\u001b[0m\u001b[39;49m A new release of pip is available: \u001b[0m\u001b[31;49m25.1.1\u001b[0m\u001b[39;49m -> \u001b[0m\u001b[32;49m25.2\u001b[0m\n",
      "\u001b[1m[\u001b[0m\u001b[34;49mnotice\u001b[0m\u001b[1;39;49m]\u001b[0m\u001b[39;49m To update, run: \u001b[0m\u001b[32;49mpip install --upgrade pip\u001b[0m\n"
     ]
    }
   ],
   "source": [
    "!pip3 install google-generativeai python-dotenv pypdf pillow"
   ]
  },
  {
   "cell_type": "code",
   "execution_count": 3,
   "id": "d996585f",
   "metadata": {},
   "outputs": [],
   "source": [
    "!pip3 freeze > requirements.txt"
   ]
  },
  {
   "cell_type": "code",
   "execution_count": 4,
   "id": "6dd2bcfb",
   "metadata": {},
   "outputs": [],
   "source": [
    "import os\n",
    "from dotenv import load_dotenv\n",
    "from pypdf import PdfReader"
   ]
  },
  {
   "cell_type": "code",
   "execution_count": 5,
   "id": "bec6f7f8",
   "metadata": {},
   "outputs": [],
   "source": [
    "load_dotenv(override=True)\n",
    "\n",
    "gemini_api_key = os.getenv(\"GOOGLE_API_KEY\")\n",
    "\n",
    "if not gemini_api_key:\n",
    "    raise ValueError(\"GOOGLE_API_KEY is not set in the environment variables.\")"
   ]
  },
  {
   "cell_type": "code",
   "execution_count": 6,
   "id": "ee0232d4",
   "metadata": {},
   "outputs": [],
   "source": [
    "def read_pdf(file_path):\n",
    "    try:\n",
    "        reader = PdfReader(file_path)\n",
    "        text = \"\"\n",
    "        for page in reader.pages:\n",
    "            text += page.extract_text() + \"\\n\"\n",
    "        return text.strip()\n",
    "    except Exception as e:\n",
    "        print(f\"Error reading PDF file: {e}\")\n",
    "        return None"
   ]
  },
  {
   "cell_type": "code",
   "execution_count": 7,
   "id": "749f1b4c",
   "metadata": {},
   "outputs": [],
   "source": [
    "dietary_guidelines_text = read_pdf(\"resources/dietary_guidelines.pdf\")\n",
    "\n",
    "if not dietary_guidelines_text:\n",
    "    raise ValueError(\"Failed to read the dietary guidelines PDF file.\")"
   ]
  },
  {
   "cell_type": "code",
   "execution_count": 8,
   "id": "85b33c4f",
   "metadata": {},
   "outputs": [
    {
     "data": {
      "text/plain": [
       "'Dietary\\nGu'"
      ]
     },
     "execution_count": 8,
     "metadata": {},
     "output_type": "execute_result"
    }
   ],
   "source": [
    "dietary_guidelines_text[:10]"
   ]
  },
  {
   "cell_type": "code",
   "execution_count": 9,
   "id": "93b56568",
   "metadata": {},
   "outputs": [],
   "source": [
    "photo_analysis_system_prompt = \"\"\"\n",
    "You are a nutrition-label analyzer. From the provided product photo(s), extract ONLY the following fields in JSON:\n",
    "- fat, cholesterol, sodium, carbohydrates, protein\n",
    "\n",
    "Rules:\n",
    "- Each field is a dictionary of key→value pairs you can read from the label \n",
    "  (e.g., {\"total\": 7, \"saturated\": 1.5, \"unit\": \"g\", \"basis\": \"per_serving\", \"percent_dv\": 9}).\n",
    "- If a field is not readable or missing, set numeric values to 0 and strings to empty string \"\".\n",
    "- Keep numbers as plain numbers (no % or unit symbols in the numbers themselves).\n",
    "- If the label shows only percent daily value, put it as a number in \"percent_dv\".\n",
    "- Do not convert salt↔sodium; only report what's printed.\n",
    "- Output ONLY a JSON object matching the schema. No extra text.\n",
    "\n",
    "Example for missing/unreadable values:\n",
    "{\"total\": 0, \"saturated\": 0, \"unit\": \"\", \"basis\": \"\", \"percent_dv\": 0}\n",
    "\"\"\""
   ]
  },
  {
   "cell_type": "code",
   "execution_count": 10,
   "id": "93e15b3d",
   "metadata": {},
   "outputs": [
    {
     "name": "stderr",
     "output_type": "stream",
     "text": [
      "/Users/sultan/Projects/food_compound_analysis/venv/lib/python3.13/site-packages/tqdm/auto.py:21: TqdmWarning: IProgress not found. Please update jupyter and ipywidgets. See https://ipywidgets.readthedocs.io/en/stable/user_install.html\n",
      "  from .autonotebook import tqdm as notebook_tqdm\n"
     ]
    }
   ],
   "source": [
    "import google.generativeai as genai\n",
    "from google.generativeai.types import GenerationConfig\n",
    "from PIL import Image"
   ]
  },
  {
   "cell_type": "code",
   "execution_count": 11,
   "id": "c9b74d80",
   "metadata": {},
   "outputs": [],
   "source": [
    "genai.configure(api_key=gemini_api_key)"
   ]
  },
  {
   "cell_type": "code",
   "execution_count": 12,
   "id": "f2710c0b",
   "metadata": {},
   "outputs": [],
   "source": [
    "nutrition_schema = {\n",
    "    \"type\": \"object\",\n",
    "    \"properties\": {\n",
    "        \"schema_version\": {\n",
    "            \"type\": \"string\"\n",
    "        },\n",
    "        \"fat\": {\n",
    "            \"type\": \"object\",\n",
    "            \"properties\": {\n",
    "                \"amount\": {\"type\": \"number\"},\n",
    "                \"unit\": {\"type\": \"string\"},\n",
    "                \"daily_value_percent\": {\"type\": \"number\"}\n",
    "            }\n",
    "        },\n",
    "        \"cholesterol\": {\n",
    "            \"type\": \"object\",\n",
    "            \"properties\": {\n",
    "                \"amount\": {\"type\": \"number\"},\n",
    "                \"unit\": {\"type\": \"string\"},\n",
    "                \"daily_value_percent\": {\"type\": \"number\"}\n",
    "            }\n",
    "        },\n",
    "        \"sodium\": {\n",
    "            \"type\": \"object\",\n",
    "            \"properties\": {\n",
    "                \"amount\": {\"type\": \"number\"},\n",
    "                \"unit\": {\"type\": \"string\"},\n",
    "                \"daily_value_percent\": {\"type\": \"number\"}\n",
    "            }\n",
    "        },\n",
    "        \"carbohydrates\": {\n",
    "            \"type\": \"object\",\n",
    "            \"properties\": {\n",
    "                \"amount\": {\"type\": \"number\"},\n",
    "                \"unit\": {\"type\": \"string\"},\n",
    "                \"daily_value_percent\": {\"type\": \"number\"}\n",
    "            }\n",
    "        },\n",
    "        \"protein\": {\n",
    "            \"type\": \"object\",\n",
    "            \"properties\": {\n",
    "                \"amount\": {\"type\": \"number\"},\n",
    "                \"unit\": {\"type\": \"string\"},\n",
    "                \"daily_value_percent\": {\"type\": \"number\"}\n",
    "            }\n",
    "        }\n",
    "    },\n",
    "    \"required\": [\"schema_version\"]\n",
    "}"
   ]
  },
  {
   "cell_type": "code",
   "execution_count": 13,
   "id": "768e1ecf",
   "metadata": {},
   "outputs": [],
   "source": [
    "model = genai.GenerativeModel('gemini-2.0-flash-exp')"
   ]
  },
  {
   "cell_type": "code",
   "execution_count": 14,
   "id": "110ad57e",
   "metadata": {},
   "outputs": [],
   "source": [
    "generation_config = GenerationConfig(\n",
    "    response_mime_type=\"application/json\",\n",
    "    response_schema=nutrition_schema\n",
    ")"
   ]
  },
  {
   "cell_type": "code",
   "execution_count": 15,
   "id": "c0aef2b5",
   "metadata": {},
   "outputs": [],
   "source": [
    "image = Image.open(\"resources/composition.jpg\")"
   ]
  },
  {
   "cell_type": "code",
   "execution_count": 16,
   "id": "51fd8885",
   "metadata": {},
   "outputs": [],
   "source": [
    "response = model.generate_content(\n",
    "    [photo_analysis_system_prompt, \"Analyze this nutrition label.\", image],\n",
    "    generation_config=generation_config\n",
    ")"
   ]
  },
  {
   "cell_type": "code",
   "execution_count": 17,
   "id": "6f8e4c04",
   "metadata": {},
   "outputs": [
    {
     "data": {
      "text/plain": [
       "'{\\n  \"schema_version\": \"string\",\\n  \"fat\": {\\n    \"amount\": 1.5,\\n    \"daily_value_percent\": 2,\\n    \"unit\": \"g\"\\n  },\\n  \"protein\": {\\n    \"amount\": 4,\\n    \"daily_value_percent\": 8,\\n    \"unit\": \"g\"\\n  },\\n  \"sodium\": {\\n    \"amount\": 200,\\n    \"daily_value_percent\": 9,\\n    \"unit\": \"mg\"\\n  }\\n}'"
      ]
     },
     "execution_count": 17,
     "metadata": {},
     "output_type": "execute_result"
    }
   ],
   "source": [
    "response_json = response.text\n",
    "response_json"
   ]
  },
  {
   "cell_type": "code",
   "execution_count": 18,
   "id": "2e33987a",
   "metadata": {},
   "outputs": [],
   "source": [
    "weight = 60\n",
    "height = 180\n",
    "age = 18"
   ]
  },
  {
   "cell_type": "code",
   "execution_count": 19,
   "id": "ccde1b51",
   "metadata": {},
   "outputs": [],
   "source": [
    "composition_analysis_system_prompt = \"\"\"\n",
    "Role: You are a registered-dietitian–level nutrition analyst and careful data checker.\n",
    "\n",
    "You will receive:\n",
    "1) A nutrition label as JSON: {response_json}\n",
    "2) Dietary guidelines as plain text: {dietary_guidelines_text}\n",
    "3) Person parameters:\n",
    "   - Weight: {weight} kg\n",
    "   - Height: {height} cm\n",
    "   - Age: {age} years\n",
    "   (Optional if provided in future: sex, activity_level, health goals/conditions)\n",
    "\n",
    "Your tasks:\n",
    "A. Parse & validate\n",
    "   - Parse the JSON safely. If any fields are missing or inconsistent (units, totals, serving count), explicitly note them.\n",
    "   - Do not assume nutrients that are not present on the label. Mark them as “not provided”.\n",
    "\n",
    "B. Person context\n",
    "   - Compute BMI = weight / (height/100)^2 and classify (WHO categories). State the numeric BMI and category.\n",
    "   - Only estimate energy needs if sex and activity_level are provided. If not provided, skip TDEE and say “not provided”.\n",
    "\n",
    "C. Label math (per serving and per package)\n",
    "   - Confirm serving_size and servings_per_container. If missing, treat “per serving” as the only basis and say container totals are unknown.\n",
    "   - Compute calories from macros using Atwater factors: protein=4 kcal/g, carbs=4 kcal/g, fat=9 kcal/g. Note that label carbs include fiber; do not subtract fiber unless the label explicitly provides available carbs.\n",
    "   - Show grams and, when possible, %DV/%RDA for: calories, protein, total fat (and sat/trans if present), total carbohydrate (sugars, added sugars, fiber), sodium, cholesterol, and any vitamins/minerals listed.\n",
    "   - If %DV is not on the label but the dietary guidelines text provides reference values, compute %DV from those references and cite which values you used. If neither is available, write “%DV: n/a”.\n",
    "\n",
    "D. Guidelines alignment\n",
    "   - Use the provided dietary guidelines text as the source of truth. Map each relevant nutrient to the recommended limits/targets.\n",
    "   - Explicitly state where the product is: “Meets”, “Close to limit”, or “Exceeds” guideline thresholds (e.g., high sodium, high added sugar, low fiber, high sat fat). Quote the exact threshold you’re applying from the guidelines text.\n",
    "\n",
    "E. Suitability for the person\n",
    "   - Considering BMI and the guidelines, briefly assess suitability (e.g., “good protein-to-calorie ratio”, “sodium may be high if blood pressure is a concern”).\n",
    "   - If information needed for a strong conclusion is missing (e.g., activity level, health conditions), say what is missing rather than guessing.\n",
    "\n",
    "F. Practical recommendations\n",
    "   - Provide 2–4 actionable suggestions: portion control, pairing (e.g., add fiber/protein), frequency of intake, or alternatives that better match the guidelines/person context.\n",
    "\n",
    "G. Transparency & safety\n",
    "   - List any assumptions you made, any missing data, and any rounding.\n",
    "   - Do not give medical advice or diagnose. Keep the tone objective and non-judgmental.\n",
    "\n",
    "Output format (Markdown):\n",
    "# Summary (1–2 sentences)\n",
    "# Key Numbers\n",
    "- Serving size: …\n",
    "- Servings per container: …\n",
    "- Calories: … (per serving) | … (per package, if known)\n",
    "- Protein: … g (… %DV if available)\n",
    "- Carbohydrate: … g [sugars … g (added … g), fiber … g] (… %DV if available)\n",
    "- Fat: … g [sat … g, trans … g] (… %DV if available)\n",
    "- Sodium: … mg (… %DV if available)\n",
    "- Cholesterol: … mg (… %DV if available)\n",
    "# Person Context\n",
    "- BMI: … (category: …)\n",
    "- TDEE: not provided / … kcal (only if sex & activity_level provided; state method)\n",
    "# Guidelines Check (cite the guideline lines you used)\n",
    "- Sodium: … → [Meets / Close to limit / Exceeds] — threshold: “…”\n",
    "- Added sugar: … → [Meets / Close / Exceeds] — threshold: “…”\n",
    "- Saturated fat: … → [Meets / Close / Exceeds] — threshold: “…”\n",
    "- Fiber: … → [Adequate / Low] — target: “…”\n",
    "- Any other nutrients present on the label\n",
    "# Suitability for This Person\n",
    "- 2–4 bullet points tailored to the above\n",
    "# Recommendations\n",
    "- 2–4 bullets (portion, pairing, swap, frequency)\n",
    "# Data Quality & Assumptions\n",
    "- Missing fields: …\n",
    "- Rounding/assumptions: …\n",
    "- Notes: This analysis is informational and not medical advice.\n",
    "\n",
    "Constraints:\n",
    "- Be precise with units. Show both grams and mg where applicable.\n",
    "- Do not invent data. If a value is absent, say “not provided”.\n",
    "- Keep the entire analysis within 250–400 words unless the label/guidelines require brief additional detail.\n",
    "\"\"\""
   ]
  },
  {
   "cell_type": "code",
   "execution_count": 20,
   "id": "e3d324f9",
   "metadata": {},
   "outputs": [],
   "source": [
    "response = model.generate_content([composition_analysis_system_prompt])"
   ]
  },
  {
   "cell_type": "code",
   "execution_count": 21,
   "id": "c4395bc6",
   "metadata": {},
   "outputs": [],
   "source": [
    "model_response = response.text"
   ]
  },
  {
   "cell_type": "code",
   "execution_count": 24,
   "id": "1f1aca3e",
   "metadata": {},
   "outputs": [
    {
     "data": {
      "text/markdown": [
       "Okay, I understand. Let's proceed with the analysis.\n",
       "\n",
       "# Summary\n",
       "This analysis evaluates a food product's nutritional content based on the provided label, dietary guidelines, and person parameters, assessing its suitability and providing practical recommendations. The analysis is limited by the completeness of the nutrition label and the absence of sex and activity level.\n",
       "\n",
       "# Key Numbers\n",
       "- Serving size: 56 g\n",
       "- Servings per container: 8\n",
       "- Calories: 230 kcal (per serving) | 1840 kcal (per package)\n",
       "- Protein: 6 g (12 %DV)\n",
       "- Carbohydrate: 30 g [sugars 14 g (added 13 g), fiber 1 g] (11 %DV)\n",
       "- Fat: 11 g [sat 7 g, trans 0 g] (14 %DV)\n",
       "- Sodium: 160 mg (7 %DV)\n",
       "- Cholesterol: 30 mg (10 %DV)\n",
       "\n",
       "# Person Context\n",
       "- BMI: 24.7 (category: Normal weight)\n",
       "- TDEE: not provided\n",
       "\n",
       "# Guidelines Check (cite the guideline lines you used)\n",
       "- Sodium: 160 mg → Meets — threshold: \"Less than 2300 mg per day\"\n",
       "- Added sugar: 13 g → Close to limit — threshold: \"Less than 10% of total daily calories\"\n",
       "- Saturated fat: 7 g → Exceeds — threshold: \"Less than 10% of total daily calories\"\n",
       "- Fiber: 1 g → Low — target: \"25-30 grams per day\"\n",
       "\n",
       "# Suitability for This Person\n",
       "- The product is relatively high in saturated fat, which might be a concern for long-term health if consumed frequently.\n",
       "- The added sugar content is notable and approaching the recommended limit.\n",
       "- The fiber content is low, which could be addressed by pairing this food with fiber-rich options.\n",
       "- The protein content is reasonable, but might not be sufficient as a standalone meal component.\n",
       "\n",
       "# Recommendations\n",
       "- Consider portion control to manage saturated fat and added sugar intake.\n",
       "- Pair with a source of fiber (e.g., fruit, vegetables, whole grains) to increase overall fiber intake.\n",
       "- Limit consumption frequency due to the high saturated fat content.\n",
       "- Explore alternative snacks or meals with lower saturated fat and higher fiber.\n",
       "\n",
       "# Data Quality & Assumptions\n",
       "- Missing fields: None.\n",
       "- Rounding/assumptions: Calories calculated using Atwater factors were rounded to the nearest 10. Dietary guidelines thresholds are interpreted based on common recommendations. The analysis assumes the label information is accurate.\n",
       "- Notes: This analysis is informational and not medical advice.\n"
      ],
      "text/plain": [
       "<IPython.core.display.Markdown object>"
      ]
     },
     "metadata": {},
     "output_type": "display_data"
    }
   ],
   "source": [
    "from IPython.display import display, Markdown\n",
    "\n",
    "display(Markdown(model_response))"
   ]
  },
  {
   "cell_type": "code",
   "execution_count": 25,
   "id": "8efc5236",
   "metadata": {},
   "outputs": [],
   "source": [
    "verification_system_prompt = \"\"\"\n",
    "Role: You are a rigorous QA reviewer for nutrition analyses. Your job is to verify the accuracy, completeness, and methodological soundness of the model’s analysis against the provided inputs.\n",
    "\n",
    "Inputs you will receive:\n",
    "- Nutrition label JSON: {response_json}\n",
    "- Dietary guidelines text: {dietary_guidelines_text}\n",
    "- Person parameters:\n",
    "  - Weight: {weight} kg\n",
    "  - Height: {height} cm\n",
    "  - Age: {age} years\n",
    "  (Optional, if present elsewhere in the thread: sex, activity_level, health goals/conditions)\n",
    "\n",
    "You will also receive: the model’s analysis to be verified.\n",
    "\n",
    "What to verify (checklist):\n",
    "1) Parsing & Units\n",
    "   - The JSON was parsed correctly (serving_size, servings_per_container, per-serving nutrients, %DV if present).\n",
    "   - Units are correct and consistent (g vs mg; sodium often in mg; fiber/sugars in g).\n",
    "   - No nutrients were invented; absent fields are labeled “not provided”.\n",
    "\n",
    "2) Math & Internal Consistency\n",
    "   - Calories-from-macros (Atwater): protein=4 kcal/g, carbs=4 kcal/g, fat=9 kcal/g. Compare to stated calories.\n",
    "     • If |macro_kcal − label_kcal| > 10% of label_kcal, flag a discrepancy.\n",
    "   - Per-serving vs per-package math is correct (multiplying by servings_per_container when shown).\n",
    "   - %DV calculations (when computed by the model) use reference values present in the label OR explicitly provided in dietary_guidelines_text. No outside defaults.\n",
    "\n",
    "3) BMI (and TDEE logic)\n",
    "   - BMI = weight / (height/100)^2 is computed correctly and WHO category is correct.\n",
    "   - TDEE handling:\n",
    "     • If sex and activity_level are NOT provided, the analysis should NOT fabricate TDEE; it should say “not provided”.\n",
    "     • If TDEE is computed, the method (e.g., Mifflin–St Jeor + activity factor) must be named and the result should be within ±5% of your recomputation.\n",
    "\n",
    "4) Guidelines Alignment\n",
    "   - Each guideline claim (e.g., high sodium, added sugars limit, saturated fat, fiber targets, key vitamins/minerals) is supported by thresholds/targets that appear in {dietary_guidelines_text}.\n",
    "   - When the analysis labels something as Meets/Close/Exceeds, that label matches the product’s numbers vs the stated threshold/target.\n",
    "\n",
    "5) Suitability & Recommendations\n",
    "   - Suitability comments are tailored to the person context (at least using BMI and any salient nutrient flags).\n",
    "   - Recommendations are specific, actionable, and flow logically from the analysis (portion control, pairing, swaps, frequency). Avoid generic, unrelated advice.\n",
    "\n",
    "6) Transparency\n",
    "   - Missing data, assumptions, and rounding are disclosed. No medical diagnosis is given.\n",
    "\n",
    "Red flags (must downgrade accuracy if present):\n",
    "- Hallucinated nutrient values or thresholds not present in the label or guidelines text.\n",
    "- Using generic %DV/DRI numbers without stating their source when the guidelines text is provided.\n",
    "- Misuse of per 100 g vs per serving.\n",
    "- Major math errors (macro calories, %DV, totals).\n",
    "\n",
    "Scoring rubric for “Overall accuracy”:\n",
    "- Accurate: No material errors; at most minor omissions/wording issues; math and thresholds correct.\n",
    "- Partially accurate: 1–3 material issues (e.g., %DV miscalc, unclear threshold citation, modest kcal mismatch) but core conclusions mostly stand.\n",
    "- Inaccurate: 4+ material issues, or any critical error (e.g., fabricated TDEE without inputs, major kcal mismatch, invented data).\n",
    "\n",
    "Output format (Markdown only; no extra prose outside the sections below):\n",
    "\n",
    "# Verification Summary\n",
    "- Overall accuracy: [Accurate / Partially accurate / Inaccurate]\n",
    "- Key issues found:\n",
    "  - [List each major inaccuracy/omission succinctly. When relevant, quote 3–12 words from the guidelines you used, e.g., “limit sodium to …”. If none, write “None.”]\n",
    "- Recommendations for improvement:\n",
    "  - [Concrete fixes the model should make: e.g., “Recompute calories from macros,” “Cite sodium threshold line,” “Mark TDEE as ‘not provided’ when sex/activity_level are missing.” If none, write “None.”]\n",
    "\n",
    "Constraints:\n",
    "- Be concise but thorough; focus on factual accuracy and completeness.\n",
    "- Use clear, objective language.\n",
    "- Do not introduce outside data; verify only against the provided JSON, guidelines text, and person parameters.\n",
    "- If critical inputs are missing, require the analysis to state “not provided” rather than guessing.\n",
    "\"\"\"\n"
   ]
  },
  {
   "cell_type": "code",
   "execution_count": 26,
   "id": "be322072",
   "metadata": {},
   "outputs": [],
   "source": [
    "response = model.generate_content([verification_system_prompt])"
   ]
  },
  {
   "cell_type": "code",
   "execution_count": null,
   "id": "dbe54ea9",
   "metadata": {},
   "outputs": [],
   "source": [
    "model_response = response.text"
   ]
  },
  {
   "cell_type": "code",
   "execution_count": 28,
   "id": "ba714839",
   "metadata": {},
   "outputs": [
    {
     "data": {
      "text/markdown": [
       "# Verification Summary\n",
       "- Overall accuracy: Partially accurate\n",
       "- Key issues found:\n",
       "  - The model calculates TDEE even though sex and activity level are not provided.\n",
       "  - The model mentions \"Consume less than 2,300 milligrams of sodium per day\" from the dietary guidelines, but the analysis incorrectly assesses whether the food exceeds this limit.\n",
       "  - The model states \"This food provides 40% of the Daily Value for fiber, which is close to the recommendation to 'make half your grains whole grains'\" which is not a direct quote from the dietary guidelines.\n",
       "- Recommendations for improvement:\n",
       "  - Do not calculate TDEE if sex and activity level are not provided.\n",
       "  - Ensure correct application of sodium limit (2300mg) when assessing the food.\n",
       "  - Ensure dietary recommendations match the exact guidelines provided, or indicate if using a general recommendation rather than a specific quote.\n"
      ],
      "text/plain": [
       "<IPython.core.display.Markdown object>"
      ]
     },
     "metadata": {},
     "output_type": "display_data"
    }
   ],
   "source": [
    "display(Markdown(model_response))"
   ]
  },
  {
   "cell_type": "code",
   "execution_count": null,
   "id": "863b87b2",
   "metadata": {},
   "outputs": [],
   "source": []
  }
 ],
 "metadata": {
  "kernelspec": {
   "display_name": "venv (3.13.5)",
   "language": "python",
   "name": "python3"
  },
  "language_info": {
   "codemirror_mode": {
    "name": "ipython",
    "version": 3
   },
   "file_extension": ".py",
   "mimetype": "text/x-python",
   "name": "python",
   "nbconvert_exporter": "python",
   "pygments_lexer": "ipython3",
   "version": "3.13.5"
  }
 },
 "nbformat": 4,
 "nbformat_minor": 5
}
