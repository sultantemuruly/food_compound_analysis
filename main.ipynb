{
 "cells": [
  {
   "cell_type": "code",
   "execution_count": 32,
   "id": "23a40a06",
   "metadata": {},
   "outputs": [
    {
     "name": "stdout",
     "output_type": "stream",
     "text": [
      "Requirement already satisfied: google-generativeai in ./venv/lib/python3.13/site-packages (0.8.5)\n",
      "Requirement already satisfied: python-dotenv in ./venv/lib/python3.13/site-packages (1.1.1)\n",
      "Requirement already satisfied: pypdf in ./venv/lib/python3.13/site-packages (6.0.0)\n",
      "Requirement already satisfied: pillow in ./venv/lib/python3.13/site-packages (11.3.0)\n",
      "Requirement already satisfied: google-ai-generativelanguage==0.6.15 in ./venv/lib/python3.13/site-packages (from google-generativeai) (0.6.15)\n",
      "Requirement already satisfied: google-api-core in ./venv/lib/python3.13/site-packages (from google-generativeai) (2.25.1)\n",
      "Requirement already satisfied: google-api-python-client in ./venv/lib/python3.13/site-packages (from google-generativeai) (2.179.0)\n",
      "Requirement already satisfied: google-auth>=2.15.0 in ./venv/lib/python3.13/site-packages (from google-generativeai) (2.40.3)\n",
      "Requirement already satisfied: protobuf in ./venv/lib/python3.13/site-packages (from google-generativeai) (5.29.5)\n",
      "Requirement already satisfied: pydantic in ./venv/lib/python3.13/site-packages (from google-generativeai) (2.11.7)\n",
      "Requirement already satisfied: tqdm in ./venv/lib/python3.13/site-packages (from google-generativeai) (4.67.1)\n",
      "Requirement already satisfied: typing-extensions in ./venv/lib/python3.13/site-packages (from google-generativeai) (4.14.1)\n",
      "Requirement already satisfied: proto-plus<2.0.0dev,>=1.22.3 in ./venv/lib/python3.13/site-packages (from google-ai-generativelanguage==0.6.15->google-generativeai) (1.26.1)\n",
      "Requirement already satisfied: googleapis-common-protos<2.0.0,>=1.56.2 in ./venv/lib/python3.13/site-packages (from google-api-core->google-generativeai) (1.70.0)\n",
      "Requirement already satisfied: requests<3.0.0,>=2.18.0 in ./venv/lib/python3.13/site-packages (from google-api-core->google-generativeai) (2.32.5)\n",
      "Requirement already satisfied: grpcio<2.0.0,>=1.33.2 in ./venv/lib/python3.13/site-packages (from google-api-core[grpc]!=2.0.*,!=2.1.*,!=2.10.*,!=2.2.*,!=2.3.*,!=2.4.*,!=2.5.*,!=2.6.*,!=2.7.*,!=2.8.*,!=2.9.*,<3.0.0dev,>=1.34.1->google-ai-generativelanguage==0.6.15->google-generativeai) (1.74.0)\n",
      "Requirement already satisfied: grpcio-status<2.0.0,>=1.33.2 in ./venv/lib/python3.13/site-packages (from google-api-core[grpc]!=2.0.*,!=2.1.*,!=2.10.*,!=2.2.*,!=2.3.*,!=2.4.*,!=2.5.*,!=2.6.*,!=2.7.*,!=2.8.*,!=2.9.*,<3.0.0dev,>=1.34.1->google-ai-generativelanguage==0.6.15->google-generativeai) (1.71.2)\n",
      "Requirement already satisfied: cachetools<6.0,>=2.0.0 in ./venv/lib/python3.13/site-packages (from google-auth>=2.15.0->google-generativeai) (5.5.2)\n",
      "Requirement already satisfied: pyasn1-modules>=0.2.1 in ./venv/lib/python3.13/site-packages (from google-auth>=2.15.0->google-generativeai) (0.4.2)\n",
      "Requirement already satisfied: rsa<5,>=3.1.4 in ./venv/lib/python3.13/site-packages (from google-auth>=2.15.0->google-generativeai) (4.9.1)\n",
      "Requirement already satisfied: charset_normalizer<4,>=2 in ./venv/lib/python3.13/site-packages (from requests<3.0.0,>=2.18.0->google-api-core->google-generativeai) (3.4.3)\n",
      "Requirement already satisfied: idna<4,>=2.5 in ./venv/lib/python3.13/site-packages (from requests<3.0.0,>=2.18.0->google-api-core->google-generativeai) (3.10)\n",
      "Requirement already satisfied: urllib3<3,>=1.21.1 in ./venv/lib/python3.13/site-packages (from requests<3.0.0,>=2.18.0->google-api-core->google-generativeai) (2.5.0)\n",
      "Requirement already satisfied: certifi>=2017.4.17 in ./venv/lib/python3.13/site-packages (from requests<3.0.0,>=2.18.0->google-api-core->google-generativeai) (2025.8.3)\n",
      "Requirement already satisfied: pyasn1>=0.1.3 in ./venv/lib/python3.13/site-packages (from rsa<5,>=3.1.4->google-auth>=2.15.0->google-generativeai) (0.6.1)\n",
      "Requirement already satisfied: httplib2<1.0.0,>=0.19.0 in ./venv/lib/python3.13/site-packages (from google-api-python-client->google-generativeai) (0.22.0)\n",
      "Requirement already satisfied: google-auth-httplib2<1.0.0,>=0.2.0 in ./venv/lib/python3.13/site-packages (from google-api-python-client->google-generativeai) (0.2.0)\n",
      "Requirement already satisfied: uritemplate<5,>=3.0.1 in ./venv/lib/python3.13/site-packages (from google-api-python-client->google-generativeai) (4.2.0)\n",
      "Requirement already satisfied: pyparsing!=3.0.0,!=3.0.1,!=3.0.2,!=3.0.3,<4,>=2.4.2 in ./venv/lib/python3.13/site-packages (from httplib2<1.0.0,>=0.19.0->google-api-python-client->google-generativeai) (3.2.3)\n",
      "Requirement already satisfied: annotated-types>=0.6.0 in ./venv/lib/python3.13/site-packages (from pydantic->google-generativeai) (0.7.0)\n",
      "Requirement already satisfied: pydantic-core==2.33.2 in ./venv/lib/python3.13/site-packages (from pydantic->google-generativeai) (2.33.2)\n",
      "Requirement already satisfied: typing-inspection>=0.4.0 in ./venv/lib/python3.13/site-packages (from pydantic->google-generativeai) (0.4.1)\n",
      "\n",
      "\u001b[1m[\u001b[0m\u001b[34;49mnotice\u001b[0m\u001b[1;39;49m]\u001b[0m\u001b[39;49m A new release of pip is available: \u001b[0m\u001b[31;49m25.1.1\u001b[0m\u001b[39;49m -> \u001b[0m\u001b[32;49m25.2\u001b[0m\n",
      "\u001b[1m[\u001b[0m\u001b[34;49mnotice\u001b[0m\u001b[1;39;49m]\u001b[0m\u001b[39;49m To update, run: \u001b[0m\u001b[32;49mpip install --upgrade pip\u001b[0m\n"
     ]
    }
   ],
   "source": [
    "!pip3 install google-generativeai python-dotenv pypdf pillow"
   ]
  },
  {
   "cell_type": "code",
   "execution_count": 33,
   "id": "d996585f",
   "metadata": {},
   "outputs": [],
   "source": [
    "!pip3 freeze > requirements.txt"
   ]
  },
  {
   "cell_type": "code",
   "execution_count": 34,
   "id": "6dd2bcfb",
   "metadata": {},
   "outputs": [],
   "source": [
    "import os\n",
    "from dotenv import load_dotenv\n",
    "from pypdf import PdfReader"
   ]
  },
  {
   "cell_type": "code",
   "execution_count": 35,
   "id": "bec6f7f8",
   "metadata": {},
   "outputs": [],
   "source": [
    "load_dotenv(override=True)\n",
    "\n",
    "gemini_api_key = os.getenv(\"GOOGLE_API_KEY\")\n",
    "\n",
    "if not gemini_api_key:\n",
    "    raise ValueError(\"GOOGLE_API_KEY is not set in the environment variables.\")"
   ]
  },
  {
   "cell_type": "code",
   "execution_count": 36,
   "id": "ee0232d4",
   "metadata": {},
   "outputs": [],
   "source": [
    "def read_pdf(file_path):\n",
    "    try:\n",
    "        reader = PdfReader(file_path)\n",
    "        text = \"\"\n",
    "        for page in reader.pages:\n",
    "            text += page.extract_text() + \"\\n\"\n",
    "        return text.strip()\n",
    "    except Exception as e:\n",
    "        print(f\"Error reading PDF file: {e}\")\n",
    "        return None"
   ]
  },
  {
   "cell_type": "code",
   "execution_count": 37,
   "id": "749f1b4c",
   "metadata": {},
   "outputs": [],
   "source": [
    "dietary_guidelines_text = read_pdf(\"resources/dietary_guidelines.pdf\")\n",
    "\n",
    "if not dietary_guidelines_text:\n",
    "    raise ValueError(\"Failed to read the dietary guidelines PDF file.\")"
   ]
  },
  {
   "cell_type": "code",
   "execution_count": 38,
   "id": "85b33c4f",
   "metadata": {},
   "outputs": [
    {
     "data": {
      "text/plain": [
       "'Dietary\\nGu'"
      ]
     },
     "execution_count": 38,
     "metadata": {},
     "output_type": "execute_result"
    }
   ],
   "source": [
    "dietary_guidelines_text[:10]"
   ]
  },
  {
   "cell_type": "code",
   "execution_count": 39,
   "id": "93b56568",
   "metadata": {},
   "outputs": [],
   "source": [
    "photo_analysis_system_prompt = \"\"\"\n",
    "You are a nutrition-label analyzer. From the provided product photo(s), extract ONLY the following fields in JSON:\n",
    "- fat, cholesterol, sodium, carbohydrates, protein\n",
    "\n",
    "Rules:\n",
    "- Each field is a dictionary of key→value pairs you can read from the label \n",
    "  (e.g., {\"total\": 7, \"saturated\": 1.5, \"unit\": \"g\", \"basis\": \"per_serving\", \"percent_dv\": 9}).\n",
    "- If a field is not readable or missing, set numeric values to 0 and strings to empty string \"\".\n",
    "- Keep numbers as plain numbers (no % or unit symbols in the numbers themselves).\n",
    "- If the label shows only percent daily value, put it as a number in \"percent_dv\".\n",
    "- Do not convert salt↔sodium; only report what's printed.\n",
    "- Output ONLY a JSON object matching the schema. No extra text.\n",
    "\n",
    "Example for missing/unreadable values:\n",
    "{\"total\": 0, \"saturated\": 0, \"unit\": \"\", \"basis\": \"\", \"percent_dv\": 0}\n",
    "\"\"\""
   ]
  },
  {
   "cell_type": "code",
   "execution_count": 40,
   "id": "93e15b3d",
   "metadata": {},
   "outputs": [],
   "source": [
    "import google.generativeai as genai\n",
    "from google.generativeai.types import GenerationConfig\n",
    "from PIL import Image"
   ]
  },
  {
   "cell_type": "code",
   "execution_count": 41,
   "id": "c9b74d80",
   "metadata": {},
   "outputs": [],
   "source": [
    "genai.configure(api_key=gemini_api_key)"
   ]
  },
  {
   "cell_type": "code",
   "execution_count": 42,
   "id": "f2710c0b",
   "metadata": {},
   "outputs": [],
   "source": [
    "nutrition_schema = {\n",
    "    \"type\": \"object\",\n",
    "    \"properties\": {\n",
    "        \"schema_version\": {\n",
    "            \"type\": \"string\"\n",
    "        },\n",
    "        \"fat\": {\n",
    "            \"type\": \"object\",\n",
    "            \"properties\": {\n",
    "                \"amount\": {\"type\": \"number\"},\n",
    "                \"unit\": {\"type\": \"string\"},\n",
    "                \"daily_value_percent\": {\"type\": \"number\"}\n",
    "            }\n",
    "        },\n",
    "        \"cholesterol\": {\n",
    "            \"type\": \"object\",\n",
    "            \"properties\": {\n",
    "                \"amount\": {\"type\": \"number\"},\n",
    "                \"unit\": {\"type\": \"string\"},\n",
    "                \"daily_value_percent\": {\"type\": \"number\"}\n",
    "            }\n",
    "        },\n",
    "        \"sodium\": {\n",
    "            \"type\": \"object\",\n",
    "            \"properties\": {\n",
    "                \"amount\": {\"type\": \"number\"},\n",
    "                \"unit\": {\"type\": \"string\"},\n",
    "                \"daily_value_percent\": {\"type\": \"number\"}\n",
    "            }\n",
    "        },\n",
    "        \"carbohydrates\": {\n",
    "            \"type\": \"object\",\n",
    "            \"properties\": {\n",
    "                \"amount\": {\"type\": \"number\"},\n",
    "                \"unit\": {\"type\": \"string\"},\n",
    "                \"daily_value_percent\": {\"type\": \"number\"}\n",
    "            }\n",
    "        },\n",
    "        \"protein\": {\n",
    "            \"type\": \"object\",\n",
    "            \"properties\": {\n",
    "                \"amount\": {\"type\": \"number\"},\n",
    "                \"unit\": {\"type\": \"string\"},\n",
    "                \"daily_value_percent\": {\"type\": \"number\"}\n",
    "            }\n",
    "        }\n",
    "    },\n",
    "    \"required\": [\"schema_version\"]\n",
    "}"
   ]
  },
  {
   "cell_type": "code",
   "execution_count": 43,
   "id": "768e1ecf",
   "metadata": {},
   "outputs": [],
   "source": [
    "model = genai.GenerativeModel('gemini-2.0-flash-exp')"
   ]
  },
  {
   "cell_type": "code",
   "execution_count": 44,
   "id": "110ad57e",
   "metadata": {},
   "outputs": [],
   "source": [
    "nutrition_generation_config = GenerationConfig(\n",
    "    response_mime_type=\"application/json\",\n",
    "    response_schema=nutrition_schema\n",
    ")"
   ]
  },
  {
   "cell_type": "code",
   "execution_count": 45,
   "id": "c0aef2b5",
   "metadata": {},
   "outputs": [],
   "source": [
    "image = Image.open(\"resources/composition.jpg\")"
   ]
  },
  {
   "cell_type": "code",
   "execution_count": 46,
   "id": "51fd8885",
   "metadata": {},
   "outputs": [],
   "source": [
    "response = model.generate_content(\n",
    "    [photo_analysis_system_prompt, \"Analyze this nutrition label.\", image],\n",
    "    generation_config=nutrition_generation_config\n",
    ")"
   ]
  },
  {
   "cell_type": "code",
   "execution_count": 47,
   "id": "6f8e4c04",
   "metadata": {},
   "outputs": [
    {
     "data": {
      "text/plain": [
       "'{\\n  \"schema_version\": \"string\",\\n  \"fat\": {\\n    \"amount\": 1.5,\\n    \"daily_value_percent\": 2,\\n    \"unit\": \"g\"\\n  },\\n  \"protein\": {\\n    \"amount\": 4,\\n    \"daily_value_percent\": 8,\\n    \"unit\": \"g\"\\n  },\\n  \"sodium\": {\\n    \"amount\": 200,\\n    \"daily_value_percent\": 9,\\n    \"unit\": \"mg\"\\n  }\\n}'"
      ]
     },
     "execution_count": 47,
     "metadata": {},
     "output_type": "execute_result"
    }
   ],
   "source": [
    "response_json = response.text\n",
    "response_json"
   ]
  },
  {
   "cell_type": "code",
   "execution_count": 48,
   "id": "2e33987a",
   "metadata": {},
   "outputs": [],
   "source": [
    "weight = 60\n",
    "height = 180\n",
    "age = 18"
   ]
  },
  {
   "cell_type": "code",
   "execution_count": 49,
   "id": "ccde1b51",
   "metadata": {},
   "outputs": [],
   "source": [
    "composition_analysis_system_prompt = \"\"\"\n",
    "Role: You are a registered-dietitian–level nutrition analyst and careful data checker.\n",
    "\n",
    "You will receive:\n",
    "1) A nutrition label as JSON: {response_json}\n",
    "2) Dietary guidelines as plain text: {dietary_guidelines_text}\n",
    "3) Person parameters:\n",
    "   - Weight: {weight} kg\n",
    "   - Height: {height} cm\n",
    "   - Age: {age} years\n",
    "   (Optional if provided in future: sex, activity_level, health goals/conditions)\n",
    "\n",
    "Your tasks:\n",
    "A. Parse & validate\n",
    "   - Parse the JSON safely. If any fields are missing or inconsistent (units, totals, serving count), explicitly note them.\n",
    "   - Do not assume nutrients that are not present on the label. Mark them as “not provided”.\n",
    "\n",
    "B. Person context\n",
    "   - Compute BMI = weight / (height/100)^2 and classify (WHO categories). State the numeric BMI and category.\n",
    "   - Only estimate energy needs if sex and activity_level are provided. If not provided, skip TDEE and say “not provided”.\n",
    "\n",
    "C. Label math (per serving and per package)\n",
    "   - Confirm serving_size and servings_per_container. If missing, treat “per serving” as the only basis and say container totals are unknown.\n",
    "   - Compute calories from macros using Atwater factors: protein=4 kcal/g, carbs=4 kcal/g, fat=9 kcal/g. Note that label carbs include fiber; do not subtract fiber unless the label explicitly provides available carbs.\n",
    "   - Show grams and, when possible, %DV/%RDA for: calories, protein, total fat (and sat/trans if present), total carbohydrate (sugars, added sugars, fiber), sodium, cholesterol, and any vitamins/minerals listed.\n",
    "   - If %DV is not on the label but the dietary guidelines text provides reference values, compute %DV from those references and cite which values you used. If neither is available, write “%DV: n/a”.\n",
    "\n",
    "D. Guidelines alignment\n",
    "   - Use the provided dietary guidelines text as the source of truth. Map each relevant nutrient to the recommended limits/targets.\n",
    "   - Explicitly state where the product is: “Meets”, “Close to limit”, or “Exceeds” guideline thresholds (e.g., high sodium, high added sugar, low fiber, high sat fat). Quote the exact threshold you’re applying from the guidelines text.\n",
    "\n",
    "E. Suitability for the person\n",
    "   - Considering BMI and the guidelines, briefly assess suitability (e.g., “good protein-to-calorie ratio”, “sodium may be high if blood pressure is a concern”).\n",
    "   - If information needed for a strong conclusion is missing (e.g., activity level, health conditions), say what is missing rather than guessing.\n",
    "\n",
    "F. Practical recommendations\n",
    "   - Provide 2–4 actionable suggestions: portion control, pairing (e.g., add fiber/protein), frequency of intake, or alternatives that better match the guidelines/person context.\n",
    "\n",
    "G. Transparency & safety\n",
    "   - List any assumptions you made, any missing data, and any rounding.\n",
    "   - Do not give medical advice or diagnose. Keep the tone objective and non-judgmental.\n",
    "\n",
    "Output format (Markdown):\n",
    "# Summary (1–2 sentences)\n",
    "# Key Numbers\n",
    "- Serving size: …\n",
    "- Servings per container: …\n",
    "- Calories: … (per serving) | … (per package, if known)\n",
    "- Protein: … g (… %DV if available)\n",
    "- Carbohydrate: … g [sugars … g (added … g), fiber … g] (… %DV if available)\n",
    "- Fat: … g [sat … g, trans … g] (… %DV if available)\n",
    "- Sodium: … mg (… %DV if available)\n",
    "- Cholesterol: … mg (… %DV if available)\n",
    "# Person Context\n",
    "- BMI: … (category: …)\n",
    "- TDEE: not provided / … kcal (only if sex & activity_level provided; state method)\n",
    "# Guidelines Check (cite the guideline lines you used)\n",
    "- Sodium: … → [Meets / Close to limit / Exceeds] — threshold: “…”\n",
    "- Added sugar: … → [Meets / Close / Exceeds] — threshold: “…”\n",
    "- Saturated fat: … → [Meets / Close / Exceeds] — threshold: “…”\n",
    "- Fiber: … → [Adequate / Low] — target: “…”\n",
    "- Any other nutrients present on the label\n",
    "# Suitability for This Person\n",
    "- 2–4 bullet points tailored to the above\n",
    "# Recommendations\n",
    "- 2–4 bullets (portion, pairing, swap, frequency)\n",
    "# Data Quality & Assumptions\n",
    "- Missing fields: …\n",
    "- Rounding/assumptions: …\n",
    "- Notes: This analysis is informational and not medical advice.\n",
    "\n",
    "Constraints:\n",
    "- Be precise with units. Show both grams and mg where applicable.\n",
    "- Do not invent data. If a value is absent, say “not provided”.\n",
    "- Keep the entire analysis within 250–400 words unless the label/guidelines require brief additional detail.\n",
    "\"\"\""
   ]
  },
  {
   "cell_type": "code",
   "execution_count": 50,
   "id": "e3d324f9",
   "metadata": {},
   "outputs": [],
   "source": [
    "response = model.generate_content([composition_analysis_system_prompt])"
   ]
  },
  {
   "cell_type": "code",
   "execution_count": 51,
   "id": "c4395bc6",
   "metadata": {},
   "outputs": [],
   "source": [
    "model_response = response.text"
   ]
  },
  {
   "cell_type": "code",
   "execution_count": 52,
   "id": "1f1aca3e",
   "metadata": {},
   "outputs": [
    {
     "data": {
      "text/markdown": [
       "# Summary\n",
       "This nutrition analysis assesses the nutritional content of the provided food label against dietary guidelines and the context of a {age}-year-old individual with a weight of {weight} kg and a height of {height} cm. The analysis considers BMI and key nutrients like sodium, sugar, fat, and fiber.\n",
       "\n",
       "# Key Numbers\n",
       "- Serving size: {response_json['serving_size']}\n",
       "- Servings per container: {response_json['servings_per_container']}\n",
       "- Calories: {response_json['calories']} kcal (per serving) | {response_json['calories'] * response_json['servings_per_container']} kcal (per package)\n",
       "- Protein: {response_json['protein']} g ({response_json['protein_dv']}%DV if available)\n",
       "- Carbohydrate: {response_json['total_carbohydrate']} g [sugars {response_json['sugars']} g (added {response_json['added_sugars']} g), fiber {response_json['fiber']} g] ({response_json['total_carbohydrate_dv']}%DV if available)\n",
       "- Fat: {response_json['total_fat']} g [sat {response_json['saturated_fat']} g, trans {response_json['trans_fat']} g] ({response_json['total_fat_dv']}%DV if available)\n",
       "- Sodium: {response_json['sodium']} mg ({response_json['sodium_dv']}%DV if available)\n",
       "- Cholesterol: {response_json['cholesterol']} mg ({response_json['cholesterol_dv']}%DV if available)\n",
       "\n",
       "# Person Context\n",
       "- BMI: {round(weight / (height/100)**2, 1)} (category: {bmi_category(weight, height)})\n",
       "- TDEE: not provided\n",
       "\n",
       "# Guidelines Check (cite the guideline lines you used)\n",
       "- Sodium: {response_json['sodium']} mg → {sodium_assessment(response_json['sodium'], dietary_guidelines_text)} — threshold: \"{extract_sodium_limit(dietary_guidelines_text)}\"\n",
       "- Added sugar: {response_json['added_sugars']} g → {added_sugar_assessment(response_json['added_sugars'], dietary_guidelines_text)} — threshold: \"{extract_added_sugar_limit(dietary_guidelines_text)}\"\n",
       "- Saturated fat: {response_json['saturated_fat']} g → {saturated_fat_assessment(response_json['saturated_fat'], response_json['calories'], dietary_guidelines_text)} — threshold: \"{extract_saturated_fat_limit(dietary_guidelines_text)}\"\n",
       "- Fiber: {response_json['fiber']} g → {fiber_assessment(response_json['fiber'], dietary_guidelines_text)} — target: \"{extract_fiber_target(dietary_guidelines_text)}\"\n",
       "- Cholesterol: {response_json['cholesterol']} mg → {cholesterol_assessment(response_json['cholesterol'], dietary_guidelines_text)} - threshold: \"{extract_cholesterol_limit(dietary_guidelines_text)}\"\n",
       "\n",
       "# Suitability for This Person\n",
       "- The product's sodium content may be a concern depending on individual health conditions.\n",
       "- The added sugar content should be considered in the context of overall dietary intake.\n",
       "- The saturated fat content should be balanced with unsaturated fat sources.\n",
       "- Fiber content could be improved.\n",
       "\n",
       "# Recommendations\n",
       "- Consider portion control to manage sodium, added sugar, and saturated fat intake.\n",
       "- Pair this food with sources of fiber like fruits or vegetables to increase satiety and meet daily fiber goals.\n",
       "- Limit consumption frequency if sodium or added sugar content is high.\n",
       "- Explore lower-sodium and lower-sugar alternatives.\n",
       "\n",
       "# Data Quality & Assumptions\n",
       "- Missing fields: None.\n",
       "- Rounding/assumptions: BMI is rounded to one decimal place. Atwater factors were used to estimate calorie contributions from macronutrients.\n",
       "- Notes: This analysis is informational and not medical advice.\n",
       "\n",
       "```python\n",
       "import json\n",
       "\n",
       "def bmi_category(weight, height):\n",
       "    bmi = weight / (height/100)**2\n",
       "    if bmi < 18.5:\n",
       "        return \"underweight\"\n",
       "    elif 18.5 <= bmi < 25:\n",
       "        return \"normal weight\"\n",
       "    elif 25 <= bmi < 30:\n",
       "        return \"overweight\"\n",
       "    else:\n",
       "        return \"obese\"\n",
       "\n",
       "def sodium_assessment(sodium, guidelines):\n",
       "    limit = extract_sodium_limit(guidelines)\n",
       "    if sodium > float(limit.replace(\"mg\",\"\")):\n",
       "        return \"Exceeds\"\n",
       "    elif sodium > float(limit.replace(\"mg\",\"\")) * 0.75:\n",
       "        return \"Close to limit\"\n",
       "    else:\n",
       "        return \"Meets\"\n",
       "\n",
       "def added_sugar_assessment(added_sugar, guidelines):\n",
       "    limit = extract_added_sugar_limit(guidelines)\n",
       "    if added_sugar > float(limit.replace(\"%\",\"\"))/100 * 2000 * 0.05: #Assuming 2000 calorie diet\n",
       "        return \"Exceeds\"\n",
       "    elif added_sugar > (float(limit.replace(\"%\",\"\"))/100 * 2000 * 0.05) * 0.75:\n",
       "        return \"Close to limit\"\n",
       "    else:\n",
       "        return \"Meets\"\n",
       "\n",
       "def saturated_fat_assessment(saturated_fat, calories, guidelines):\n",
       "    limit = extract_saturated_fat_limit(guidelines)\n",
       "    if saturated_fat > float(limit.replace(\"%\",\"\"))/100 * calories * (1/9):\n",
       "        return \"Exceeds\"\n",
       "    elif saturated_fat > (float(limit.replace(\"%\",\"\"))/100 * calories * (1/9)) * 0.75:\n",
       "        return \"Close to limit\"\n",
       "    else:\n",
       "        return \"Meets\"\n",
       "\n",
       "def fiber_assessment(fiber, guidelines):\n",
       "    target = extract_fiber_target(guidelines)\n",
       "    if fiber < float(target.replace(\"g\",\"\")) * 0.75:\n",
       "        return \"Low\"\n",
       "    else:\n",
       "        return \"Adequate\"\n",
       "\n",
       "def cholesterol_assessment(cholesterol, guidelines):\n",
       "    limit = extract_cholesterol_limit(guidelines)\n",
       "    if cholesterol > float(limit.replace(\"mg\",\"\")):\n",
       "        return \"Exceeds\"\n",
       "    elif cholesterol > float(limit.replace(\"mg\",\"\")) * 0.75:\n",
       "        return \"Close to limit\"\n",
       "    else:\n",
       "        return \"Meets\"\n",
       "\n",
       "def extract_sodium_limit(guidelines):\n",
       "    import re\n",
       "    match = re.search(r\"less than (\\d+mg) per day\", guidelines)\n",
       "    if match:\n",
       "        return match.group(1)\n",
       "    else:\n",
       "        return \"2300mg\"\n",
       "\n",
       "def extract_added_sugar_limit(guidelines):\n",
       "    import re\n",
       "    match = re.search(r\"less than (\\d+% of calories from added sugars)\", guidelines)\n",
       "    if match:\n",
       "        return match.group(1)\n",
       "    else:\n",
       "        return \"10%\"\n",
       "\n",
       "def extract_saturated_fat_limit(guidelines):\n",
       "    import re\n",
       "    match = re.search(r\"less than (\\d+% of calories from saturated fat)\", guidelines)\n",
       "    if match:\n",
       "        return match.group(1)\n",
       "    else:\n",
       "        return \"10%\"\n",
       "\n",
       "def extract_fiber_target(guidelines):\n",
       "    import re\n",
       "    match = re.search(r\"(\\d+g) of fiber per day\", guidelines)\n",
       "    if match:\n",
       "        return match.group(1)\n",
       "    else:\n",
       "        return \"28g\"\n",
       "\n",
       "def extract_cholesterol_limit(guidelines):\n",
       "    import re\n",
       "    match = re.search(r\"limit cholesterol to (\\d+mg) per day\", guidelines)\n",
       "    if match:\n",
       "        return match.group(1)\n",
       "    else:\n",
       "        return \"300mg\"\n",
       "```"
      ],
      "text/plain": [
       "<IPython.core.display.Markdown object>"
      ]
     },
     "metadata": {},
     "output_type": "display_data"
    }
   ],
   "source": [
    "from IPython.display import display, Markdown\n",
    "\n",
    "display(Markdown(model_response))"
   ]
  },
  {
   "cell_type": "code",
   "execution_count": 66,
   "id": "8efc5236",
   "metadata": {},
   "outputs": [],
   "source": [
    "\n",
    "verification_system_prompt = \"\"\"\n",
    "Role: You are a rigorous QA reviewer for nutrition analyses. Your job is to verify the accuracy, completeness, and methodological soundness of the model’s analysis against the provided inputs.\n",
    "\n",
    "Inputs you will receive:\n",
    "- Nutrition label JSON: {response_json}\n",
    "- Dietary guidelines text: {dietary_guidelines_text}\n",
    "- Person parameters:\n",
    "  - Weight: {weight} kg\n",
    "  - Height: {height} cm\n",
    "  - Age: {age} years\n",
    "  (Optional, if present elsewhere in the thread: sex, activity_level, health goals/conditions)\n",
    "\n",
    "You will also receive: the model’s analysis to be verified.\n",
    "\n",
    "Follow this verification checklist:\n",
    "1) Parsing & Units\n",
    "2) Math & Internal Consistency\n",
    "3) BMI (and TDEE logic)\n",
    "4) Guidelines Alignment\n",
    "5) Suitability & Recommendations\n",
    "6) Transparency\n",
    "(Flag any Red flags as described earlier.)\n",
    "\n",
    "Scoring rubric for “Overall accuracy”:\n",
    "- Accurate: No material errors, only minor omissions.\n",
    "- Partially accurate: 1–3 material issues but core conclusions mostly correct.\n",
    "- Inaccurate: 4+ issues or any critical error.\n",
    "\n",
    "OUTPUT FORMAT:\n",
    "Respond ONLY in valid JSON that matches this schema:\n",
    "{{\n",
    "  \"summary\": \"Overall summary of accuracy, key issues, and recommendations in 2–4 sentences.\",\n",
    "  \"is_valid\": true or false\n",
    "}}\n",
    "\n",
    "Where:\n",
    "- \"summary\" = concise written summary of your verification findings.\n",
    "- \"is_valid\" = true if the analysis is Accurate; false if Partially accurate or Inaccurate.\n",
    "\n",
    "Constraints:\n",
    "- Be concise, objective, and fact-based.\n",
    "- Do not introduce outside data; verify only against the provided JSON, guidelines, and person parameters.\n",
    "- If critical inputs are missing, require the analysis to state “not provided” rather than guessing.\n",
    "\"\"\"\n"
   ]
  },
  {
   "cell_type": "code",
   "execution_count": 67,
   "id": "f6b5af62",
   "metadata": {},
   "outputs": [],
   "source": [
    "verification_schema = {\n",
    "    \"type\": \"object\",\n",
    "    \"properties\": {\n",
    "        \"schema_version\": {\n",
    "            \"type\": \"string\"\n",
    "        },\n",
    "        \"summary\": {\n",
    "            \"type\": \"string\",\n",
    "            \"description\": \"Overall summary of the verification process.\"\n",
    "        },\n",
    "        \"is_valid\": {\n",
    "            \"type\": \"boolean\",\n",
    "            \"description\": \"True if the verification is valid, otherwise False.\"\n",
    "        }\n",
    "    },\n",
    "    \"required\": [\"summary\", \"is_valid\"]\n",
    "}"
   ]
  },
  {
   "cell_type": "code",
   "execution_count": 68,
   "id": "026e9573",
   "metadata": {},
   "outputs": [],
   "source": [
    "verification_generation_config = GenerationConfig(\n",
    "    response_mime_type=\"application/json\",\n",
    "    response_schema=verification_schema\n",
    ")"
   ]
  },
  {
   "cell_type": "code",
   "execution_count": 69,
   "id": "be322072",
   "metadata": {},
   "outputs": [],
   "source": [
    "response = model.generate_content([verification_system_prompt], generation_config=verification_generation_config)"
   ]
  },
  {
   "cell_type": "code",
   "execution_count": 70,
   "id": "dbe54ea9",
   "metadata": {},
   "outputs": [],
   "source": [
    "model_response = response.text"
   ]
  },
  {
   "cell_type": "code",
   "execution_count": 71,
   "id": "ba714839",
   "metadata": {},
   "outputs": [
    {
     "data": {
      "text/plain": [
       "'{\\n  \"is_valid\": true,\\n  \"summary\": \"The analysis appears accurate and well-aligned with the provided inputs and guidelines. All calculations are internally consistent, and the recommendations are suitable given the available information. No issues were identified during verification.\"\\n}'"
      ]
     },
     "execution_count": 71,
     "metadata": {},
     "output_type": "execute_result"
    }
   ],
   "source": [
    "model_response"
   ]
  },
  {
   "cell_type": "code",
   "execution_count": 75,
   "id": "1c7f7876",
   "metadata": {},
   "outputs": [],
   "source": [
    "import json\n",
    "\n",
    "def verify_model_response(response_json, dietary_guidelines_text, weight, height, age):\n",
    "    verification_system_prompt_filled = verification_system_prompt.format(\n",
    "        response_json=response_json,\n",
    "        dietary_guidelines_text=dietary_guidelines_text,\n",
    "        weight=weight,\n",
    "        height=height,\n",
    "        age=age\n",
    "    )\n",
    "    response = model.generate_content(\n",
    "        [verification_system_prompt_filled],\n",
    "        generation_config=verification_generation_config\n",
    "    )\n",
    "    \n",
    "    # try parsing the model output\n",
    "    try:\n",
    "        return json.loads(response.text)\n",
    "    except json.JSONDecodeError:\n",
    "        # fallback\n",
    "        return {\"is_valid\": False, \"summary\": \"Model response was not valid JSON.\"}\n"
   ]
  },
  {
   "cell_type": "code",
   "execution_count": 76,
   "id": "863b87b2",
   "metadata": {},
   "outputs": [],
   "source": [
    "def get_recomendations(image_path, weight, height, age):\n",
    "    image = Image.open(image_path)\n",
    "    response = model.generate_content(\n",
    "        [photo_analysis_system_prompt, \"Analyze this nutrition label.\", image],\n",
    "        generation_config=nutrition_generation_config\n",
    "    )\n",
    "    response_json = response.text\n",
    "    \n",
    "    composition_analysis_system_prompt_filled = composition_analysis_system_prompt.format(\n",
    "        response_json=response_json,\n",
    "        dietary_guidelines_text=dietary_guidelines_text,\n",
    "        weight=weight,\n",
    "        height=height,\n",
    "        age=age\n",
    "    )\n",
    "    \n",
    "    response = model.generate_content([composition_analysis_system_prompt_filled])\n",
    "    model_response = response.text\n",
    "    \n",
    "    verification_json = verify_model_response(response_json, dietary_guidelines_text, weight, height, age)\n",
    "    \n",
    "    if verification_json[\"is_valid\"]:\n",
    "        print(\"Verification passed\")\n",
    "        return model_response\n",
    "    else:\n",
    "        print(\"Verification failed\")\n",
    "        print(\"Summary of issues:\", verification_json[\"summary\"])\n",
    "        # Append the feedback to the next prompt\n",
    "        improved_prompt = (\n",
    "            composition_analysis_system_prompt_filled\n",
    "            + f\"\\n\\nThe previous answer did not fully meet requirements. \"\n",
    "              f\"Here is a summary of issues: {verification_json['summary']}.\\n\"\n",
    "              f\"Please improve the recommendations accordingly.\"\n",
    "        )\n",
    "        \n",
    "        response = model.generate_content([improved_prompt])\n",
    "        return response.text\n",
    "    "
   ]
  },
  {
   "cell_type": "code",
   "execution_count": 77,
   "id": "c0c20a53",
   "metadata": {},
   "outputs": [
    {
     "name": "stdout",
     "output_type": "stream",
     "text": [
      "Verification passed\n"
     ]
    }
   ],
   "source": [
    "resp = get_recomendations(\"resources/composition.jpg\", 70, 175, 16)"
   ]
  },
  {
   "cell_type": "code",
   "execution_count": 79,
   "id": "a3f7f2b7",
   "metadata": {},
   "outputs": [
    {
     "data": {
      "text/markdown": [
       "# Summary\n",
       "This nutrition analysis examines a food label for a 16-year-old, considering their BMI and the Dietary Guidelines for Americans. The product provides some protein and fat but needs evaluation for sodium content and overall alignment with dietary recommendations.\n",
       "\n",
       "# Key Numbers\n",
       "- Serving size: Not provided\n",
       "- Servings per container: Not provided\n",
       "- Calories: Not provided (per serving)\n",
       "- Protein: 4 g (8 %DV)\n",
       "- Carbohydrate: Not provided g [sugars Not provided g (added Not provided g), fiber Not provided g] (Not provided %DV)\n",
       "- Fat: 2 g (3 %DV)\n",
       "- Sodium: 140 mg (6 %DV)\n",
       "- Cholesterol: Not provided mg (Not provided %DV)\n",
       "\n",
       "# Person Context\n",
       "- BMI: 22.86 (category: Normal)\n",
       "- TDEE: Not provided\n",
       "\n",
       "# Guidelines Check\n",
       "- Sodium: Meets — threshold: “Less than 2,300 milligrams per day—and even less for children younger than age 14.” The 16-year-old is above 14, so 2300 is the value used.\n",
       "- Added sugar: Not provided → Cannot assess\n",
       "- Saturated fat: Not provided → Cannot assess\n",
       "- Fiber: Not provided → Cannot assess\n",
       "- Vitamin A: Not provided → Cannot assess\n",
       "- Vitamin E: Not provided → Cannot assess\n",
       "- Vitamin B12: Not provided → Cannot assess\n",
       "- Potassium: Not provided → Cannot assess\n",
       "- Choline: Not provided → Cannot assess\n",
       "- Vitamin K: Not provided → Cannot assess\n",
       "- Folate: Not provided → Cannot assess\n",
       "\n",
       "# Suitability for This Person\n",
       "- The label shows a small amount of protein for the product, and may have good protein to calorie ratio if calories are low.\n",
       "- Sodium content appears reasonable if other foods consumed during the day are low in sodium.\n",
       "- Activity level and specific health conditions are needed for a more precise assessment.\n",
       "\n",
       "# Recommendations\n",
       "- Consider pairing with foods that provide more fiber to increase satiety.\n",
       "- If blood pressure is a concern, monitor sodium intake from all sources.\n",
       "- Choose options with lower sodium content, especially if consuming this product frequently.\n",
       "- Since serving size is not provided, aim for a small portion size as a starting point and adjust to your energy needs.\n",
       "\n",
       "# Data Quality & Assumptions\n",
       "- Missing fields: serving size, servings per container, calories, carbohydrate, sugars, added sugars, fiber, cholesterol, %DV for all nutrients except protein, fat and sodium, activity level.\n",
       "- Rounding/assumptions: BMI calculation is rounded to two decimal places. The analysis is based on the limited information provided on the label.\n",
       "- Notes: This analysis is informational and not medical advice.\n"
      ],
      "text/plain": [
       "<IPython.core.display.Markdown object>"
      ]
     },
     "metadata": {},
     "output_type": "display_data"
    }
   ],
   "source": [
    "display(Markdown(resp))"
   ]
  },
  {
   "cell_type": "code",
   "execution_count": null,
   "id": "049870ed",
   "metadata": {},
   "outputs": [],
   "source": []
  }
 ],
 "metadata": {
  "kernelspec": {
   "display_name": "venv (3.13.5)",
   "language": "python",
   "name": "python3"
  },
  "language_info": {
   "codemirror_mode": {
    "name": "ipython",
    "version": 3
   },
   "file_extension": ".py",
   "mimetype": "text/x-python",
   "name": "python",
   "nbconvert_exporter": "python",
   "pygments_lexer": "ipython3",
   "version": "3.13.5"
  }
 },
 "nbformat": 4,
 "nbformat_minor": 5
}
